{
 "cells": [
  {
   "cell_type": "code",
   "execution_count": 1,
   "metadata": {},
   "outputs": [],
   "source": [
    "import pandas as pd\n",
    "import numpy as np"
   ]
  },
  {
   "cell_type": "code",
   "execution_count": 2,
   "metadata": {},
   "outputs": [],
   "source": [
    "# Read data\n",
    "particulates_pm10_agg = pd.read_csv(\n",
    "    '/Users/anil/Documents/OMSA/CSE 6242 - Data and Visual Analytics/Project/Datasets/Aggregates/particulates_pm10_agg.csv')\n",
    "toxics_lead_agg = pd.read_csv(\n",
    "    '/Users/anil/Documents/OMSA/CSE 6242 - Data and Visual Analytics/Project/Datasets/Aggregates/toxics_lead_agg.csv')\n",
    "storm_events_details_agg = pd.read_csv(\n",
    "    '/Users/anil/Documents/OMSA/CSE 6242 - Data and Visual Analytics/Project/Datasets/Aggregates/storm_events_details_agg.csv')"
   ]
  },
  {
   "cell_type": "code",
   "execution_count": 12,
   "metadata": {},
   "outputs": [],
   "source": [
    "# Merge the two dataframes (pm10 and lead) and export to csv\n",
    "merged_df = particulates_pm10_agg.merge(toxics_lead_agg,\n",
    "                                        on = ['County_Name', 'State_Name', 'year_month'],\n",
    "                                        how = 'outer'\n",
    "                                       )\n",
    "merged_df.to_csv('pm10_and_lead_data_agg_merged.csv', index=False)"
   ]
  },
  {
   "cell_type": "code",
   "execution_count": 8,
   "metadata": {},
   "outputs": [],
   "source": [
    "# Convert long dataframe to wide (storm events)\n",
    "# Do this for Count_Storm_Events, Total_Injuries, Total_Deaths, Total_Damage\n",
    "# 1. Count_Storm_Events\n",
    "df2 = storm_events_details_agg.pivot_table(index=['CZ_Name', 'State', 'year_month'], \n",
    "                                     columns='Event_Type_Group', \n",
    "                                     values='Count_Storm_Events',\n",
    "                                     aggfunc=np.sum\n",
    "                                    )\n",
    "df_new = df2.reset_index()\n",
    "df_new.rename(columns={'Air': 'Count_Event_Type_Group_Air', \n",
    "                    'Earth': 'Count_Event_Type_Group_Earth',\n",
    "                    'Fire': 'Count_Event_Type_Group_Fire',\n",
    "                    'Water': 'Count_Event_Type_Group_Water',\n",
    "                   }, inplace=True)\n",
    "df_new.to_csv('storm_events_reshaped_count_events.csv', \n",
    "              columns = ['CZ_Name', 'State', 'year_month', 'Count_Event_Type_Group_Air',\n",
    "                         'Count_Event_Type_Group_Earth', 'Count_Event_Type_Group_Fire', \n",
    "                         'Count_Event_Type_Group_Water'\n",
    "                        ],\n",
    "              index=False\n",
    "             )"
   ]
  },
  {
   "cell_type": "code",
   "execution_count": 5,
   "metadata": {},
   "outputs": [],
   "source": [
    "# 2. Total_Injuries\n",
    "df2 = storm_events_details_agg.pivot_table(index=['CZ_Name', 'State', 'year_month'], \n",
    "                                     columns='Event_Type_Group', \n",
    "                                     values='Total_Injuries',\n",
    "                                     aggfunc=np.sum\n",
    "                                    )\n",
    "df_new = df2.reset_index()\n",
    "df_new.rename(columns={'Air': 'Total_Injuries_Event_Group_Air', \n",
    "                    'Earth': 'Total_Injuries_Event_Group_Earth',\n",
    "                    'Fire': 'Total_Injuries_Event_Group_Fire',\n",
    "                    'Water': 'Total_Injuries_Event_Group_Water',\n",
    "                   }, inplace=True)\n",
    "df_new.to_csv('storm_events_reshaped_total_injuries.csv', \n",
    "              columns = ['CZ_Name', 'State', 'year_month', 'Total_Injuries_Event_Group_Air',\n",
    "                         'Total_Injuries_Event_Group_Earth', 'Total_Injuries_Event_Group_Fire', \n",
    "                         'Total_Injuries_Event_Group_Water'\n",
    "                        ],\n",
    "              index=False\n",
    "             )"
   ]
  },
  {
   "cell_type": "code",
   "execution_count": 7,
   "metadata": {},
   "outputs": [],
   "source": [
    "# 3. Total_Deaths\n",
    "df2 = storm_events_details_agg.pivot_table(index=['CZ_Name', 'State', 'year_month'], \n",
    "                                     columns='Event_Type_Group', \n",
    "                                     values='Total_Deaths',\n",
    "                                     aggfunc=np.sum\n",
    "                                    )\n",
    "df_new = df2.reset_index()\n",
    "df_new.rename(columns={'Air': 'Total_Deaths_Event_Group_Air', \n",
    "                    'Earth': 'Total_Deaths_Event_Group_Earth',\n",
    "                    'Fire': 'Total_Deaths_Event_Group_Fire',\n",
    "                    'Water': 'Total_Deaths_Event_Group_Water',\n",
    "                   }, inplace=True)\n",
    "df_new.to_csv('storm_events_reshaped_total_deaths.csv', \n",
    "              columns = ['CZ_Name', 'State', 'year_month', 'Total_Deaths_Event_Group_Air',\n",
    "                         'Total_Deaths_Event_Group_Earth', 'Total_Deaths_Event_Group_Fire', \n",
    "                         'Total_Deaths_Event_Group_Water'\n",
    "                        ],\n",
    "              index=False\n",
    "             )"
   ]
  },
  {
   "cell_type": "code",
   "execution_count": 9,
   "metadata": {},
   "outputs": [],
   "source": [
    "# 3. Total_Damage\n",
    "df2 = storm_events_details_agg.pivot_table(index=['CZ_Name', 'State', 'year_month'], \n",
    "                                     columns='Event_Type_Group', \n",
    "                                     values='Total_Damage',\n",
    "                                     aggfunc=np.sum\n",
    "                                    )\n",
    "df_new = df2.reset_index()\n",
    "df_new.rename(columns={'Air': 'Total_Damage_Event_Group_Air', \n",
    "                    'Earth': 'Total_Damage_Event_Group_Earth',\n",
    "                    'Fire': 'Total_Damage_Event_Group_Fire',\n",
    "                    'Water': 'Total_Damage_Event_Group_Water',\n",
    "                   }, inplace=True)\n",
    "df_new.to_csv('storm_events_reshaped_total_damage.csv', \n",
    "              columns = ['CZ_Name', 'State', 'year_month', 'Total_Damage_Event_Group_Air',\n",
    "                         'Total_Damage_Event_Group_Earth', 'Total_Damage_Event_Group_Fire', \n",
    "                         'Total_Damage_Event_Group_Water'\n",
    "                        ],\n",
    "              index=False\n",
    "             )"
   ]
  },
  {
   "cell_type": "code",
   "execution_count": null,
   "metadata": {},
   "outputs": [],
   "source": []
  }
 ],
 "metadata": {
  "kernelspec": {
   "display_name": "Python 3",
   "language": "python",
   "name": "python3"
  },
  "language_info": {
   "codemirror_mode": {
    "name": "ipython",
    "version": 3
   },
   "file_extension": ".py",
   "mimetype": "text/x-python",
   "name": "python",
   "nbconvert_exporter": "python",
   "pygments_lexer": "ipython3",
   "version": "3.7.4"
  }
 },
 "nbformat": 4,
 "nbformat_minor": 2
}
