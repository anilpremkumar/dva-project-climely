{
 "cells": [
  {
   "cell_type": "code",
   "execution_count": 2,
   "metadata": {},
   "outputs": [],
   "source": [
    "%matplotlib inline\n",
    "import numpy as np\n",
    "import pandas as pd\n",
    "import matplotlib.pyplot as plt \n",
    "\n",
    "import os"
   ]
  },
  {
   "cell_type": "code",
   "execution_count": 22,
   "metadata": {},
   "outputs": [],
   "source": [
    "data = pd.read_csv('./data/2011-ghg-emissions.csv',encoding= 'unicode_escape')"
   ]
  },
  {
   "cell_type": "code",
   "execution_count": 23,
   "metadata": {},
   "outputs": [],
   "source": [
    "co2_df = data[['City','State','Zip Code', \"Year\",\"Total CO2e\"]]\n"
   ]
  },
  {
   "cell_type": "code",
   "execution_count": 24,
   "metadata": {},
   "outputs": [
    {
     "data": {
      "text/html": [
       "<div>\n",
       "<style scoped>\n",
       "    .dataframe tbody tr th:only-of-type {\n",
       "        vertical-align: middle;\n",
       "    }\n",
       "\n",
       "    .dataframe tbody tr th {\n",
       "        vertical-align: top;\n",
       "    }\n",
       "\n",
       "    .dataframe thead th {\n",
       "        text-align: right;\n",
       "    }\n",
       "</style>\n",
       "<table border=\"1\" class=\"dataframe\">\n",
       "  <thead>\n",
       "    <tr style=\"text-align: right;\">\n",
       "      <th></th>\n",
       "      <th>City</th>\n",
       "      <th>State</th>\n",
       "      <th>Zip Code</th>\n",
       "      <th>Year</th>\n",
       "      <th>Total CO2e</th>\n",
       "    </tr>\n",
       "  </thead>\n",
       "  <tbody>\n",
       "    <tr>\n",
       "      <th>0</th>\n",
       "      <td>Manhattan Beach</td>\n",
       "      <td>CA</td>\n",
       "      <td>90266</td>\n",
       "      <td>2011</td>\n",
       "      <td>0</td>\n",
       "    </tr>\n",
       "    <tr>\n",
       "      <th>1</th>\n",
       "      <td>Trona</td>\n",
       "      <td>CA</td>\n",
       "      <td>93562</td>\n",
       "      <td>2011</td>\n",
       "      <td>785,978</td>\n",
       "    </tr>\n",
       "    <tr>\n",
       "      <th>2</th>\n",
       "      <td>Keyes</td>\n",
       "      <td>CA</td>\n",
       "      <td>95328</td>\n",
       "      <td>2011</td>\n",
       "      <td>54,101</td>\n",
       "    </tr>\n",
       "    <tr>\n",
       "      <th>3</th>\n",
       "      <td>McKittrick</td>\n",
       "      <td>CA</td>\n",
       "      <td>93251</td>\n",
       "      <td>2011</td>\n",
       "      <td>262,094</td>\n",
       "    </tr>\n",
       "    <tr>\n",
       "      <th>4</th>\n",
       "      <td>San Ardo</td>\n",
       "      <td>CA</td>\n",
       "      <td>93450</td>\n",
       "      <td>2011</td>\n",
       "      <td>153,304</td>\n",
       "    </tr>\n",
       "    <tr>\n",
       "      <th>...</th>\n",
       "      <td>...</td>\n",
       "      <td>...</td>\n",
       "      <td>...</td>\n",
       "      <td>...</td>\n",
       "      <td>...</td>\n",
       "    </tr>\n",
       "    <tr>\n",
       "      <th>623</th>\n",
       "      <td>N. Palm Springs</td>\n",
       "      <td>CA</td>\n",
       "      <td>92258</td>\n",
       "      <td>2011</td>\n",
       "      <td>23,598</td>\n",
       "    </tr>\n",
       "    <tr>\n",
       "      <th>624</th>\n",
       "      <td>San Diego</td>\n",
       "      <td>CA</td>\n",
       "      <td>92154</td>\n",
       "      <td>2011</td>\n",
       "      <td>19,796</td>\n",
       "    </tr>\n",
       "    <tr>\n",
       "      <th>625</th>\n",
       "      <td>Bakersfield</td>\n",
       "      <td>CA</td>\n",
       "      <td>93307</td>\n",
       "      <td>2011</td>\n",
       "      <td>25,527</td>\n",
       "    </tr>\n",
       "    <tr>\n",
       "      <th>626</th>\n",
       "      <td>City of Industry</td>\n",
       "      <td>CA</td>\n",
       "      <td>91748</td>\n",
       "      <td>2011</td>\n",
       "      <td>12,600</td>\n",
       "    </tr>\n",
       "    <tr>\n",
       "      <th>627</th>\n",
       "      <td>Yuba City</td>\n",
       "      <td>CA</td>\n",
       "      <td>95993</td>\n",
       "      <td>2011</td>\n",
       "      <td>61,480</td>\n",
       "    </tr>\n",
       "  </tbody>\n",
       "</table>\n",
       "<p>628 rows × 5 columns</p>\n",
       "</div>"
      ],
      "text/plain": [
       "                 City State Zip Code  Year Total CO2e\n",
       "0     Manhattan Beach    CA    90266  2011          0\n",
       "1               Trona    CA    93562  2011    785,978\n",
       "2               Keyes    CA    95328  2011     54,101\n",
       "3          McKittrick    CA    93251  2011    262,094\n",
       "4            San Ardo    CA    93450  2011    153,304\n",
       "..                ...   ...      ...   ...        ...\n",
       "623   N. Palm Springs    CA    92258  2011     23,598\n",
       "624         San Diego    CA    92154  2011     19,796\n",
       "625       Bakersfield    CA    93307  2011     25,527\n",
       "626  City of Industry    CA    91748  2011     12,600\n",
       "627         Yuba City    CA    95993  2011     61,480\n",
       "\n",
       "[628 rows x 5 columns]"
      ]
     },
     "execution_count": 24,
     "metadata": {},
     "output_type": "execute_result"
    }
   ],
   "source": [
    "co2_df"
   ]
  },
  {
   "cell_type": "code",
   "execution_count": 25,
   "metadata": {},
   "outputs": [],
   "source": [
    "cities = co2_df['City'].unique().tolist()"
   ]
  },
  {
   "cell_type": "code",
   "execution_count": 27,
   "metadata": {},
   "outputs": [
    {
     "data": {
      "text/plain": [
       "296"
      ]
     },
     "execution_count": 27,
     "metadata": {},
     "output_type": "execute_result"
    }
   ],
   "source": [
    "len(cities)"
   ]
  },
  {
   "cell_type": "code",
   "execution_count": null,
   "metadata": {},
   "outputs": [],
   "source": []
  }
 ],
 "metadata": {
  "kernelspec": {
   "display_name": "Python 3",
   "language": "python",
   "name": "python3"
  },
  "language_info": {
   "codemirror_mode": {
    "name": "ipython",
    "version": 3
   },
   "file_extension": ".py",
   "mimetype": "text/x-python",
   "name": "python",
   "nbconvert_exporter": "python",
   "pygments_lexer": "ipython3",
   "version": "3.7.6"
  }
 },
 "nbformat": 4,
 "nbformat_minor": 2
}
